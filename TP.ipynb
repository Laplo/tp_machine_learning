{
  "nbformat": 4,
  "nbformat_minor": 0,
  "metadata": {
    "colab": {
      "name": "TP.ipynb",
      "provenance": [],
      "include_colab_link": true
    },
    "kernelspec": {
      "name": "python3",
      "display_name": "Python 3"
    }
  },
  "cells": [
    {
      "cell_type": "markdown",
      "metadata": {
        "id": "view-in-github",
        "colab_type": "text"
      },
      "source": [
        "<a href=\"https://colab.research.google.com/github/Laplo/tp_machine_learning/blob/master/TP.ipynb\" target=\"_parent\"><img src=\"https://colab.research.google.com/assets/colab-badge.svg\" alt=\"Open In Colab\"/></a>"
      ]
    },
    {
      "cell_type": "markdown",
      "metadata": {
        "id": "04yIYaCYkyYP",
        "colab_type": "text"
      },
      "source": [
        "# **Import des librairies**"
      ]
    },
    {
      "cell_type": "code",
      "metadata": {
        "id": "pNyajNrRjpWp",
        "colab_type": "code",
        "colab": {}
      },
      "source": [
        "import pandas as pd\n",
        "import numpy as np\n",
        "import os\n",
        "\n",
        "from IPython.display import Image\n",
        "\n",
        "%matplotlib inline\n",
        "import matplotlib.pyplot as plt\n",
        "from matplotlib.colors import ListedColormap\n",
        "\n",
        "from sklearn.ensemble import AdaBoostClassifier\n",
        "from sklearn.ensemble import GradientBoostingClassifier\n",
        "from sklearn.ensemble import RandomForestClassifier\n",
        "\n",
        "from sklearn.metrics import accuracy_score\n",
        "\n",
        "from sklearn.model_selection import train_test_split\n",
        "\n",
        "from sklearn.tree import DecisionTreeClassifier\n",
        "from sklearn.tree import export_graphviz"
      ],
      "execution_count": 0,
      "outputs": []
    },
    {
      "cell_type": "markdown",
      "metadata": {
        "id": "Ae2uOeXBktbw",
        "colab_type": "text"
      },
      "source": [
        "# **Prépapartion des données**"
      ]
    },
    {
      "cell_type": "markdown",
      "metadata": {
        "id": "zviaev7YJ9Cr",
        "colab_type": "text"
      },
      "source": [
        "# **RandomForest**"
      ]
    },
    {
      "cell_type": "markdown",
      "metadata": {
        "id": "Ywvb0rnwJ9iu",
        "colab_type": "text"
      },
      "source": [
        "# **Neural Network**"
      ]
    }
  ]
}